{
 "cells": [
  {
   "cell_type": "code",
   "execution_count": 52,
   "id": "initial_id",
   "metadata": {
    "collapsed": true,
    "ExecuteTime": {
     "end_time": "2023-12-12T17:44:40.690889500Z",
     "start_time": "2023-12-12T17:44:40.672472500Z"
    }
   },
   "outputs": [],
   "source": [
    "import requests\n",
    "import json\n",
    "import pandas as pd\n",
    "from datetime import datetime\n"
   ]
  },
  {
   "cell_type": "markdown",
   "source": [
    "### Загружаем сохранённые данные о сигналами "
   ],
   "metadata": {
    "collapsed": false
   },
   "id": "18048d993ff8cf2d"
  },
  {
   "cell_type": "code",
   "execution_count": 53,
   "outputs": [],
   "source": [
    "alert_df = pd.read_csv(\"alert_from_algo1_091123.csv\")"
   ],
   "metadata": {
    "collapsed": false,
    "ExecuteTime": {
     "end_time": "2023-12-12T17:44:41.359952400Z",
     "start_time": "2023-12-12T17:44:41.185446800Z"
    }
   },
   "id": "550e33a237210fea"
  },
  {
   "cell_type": "code",
   "execution_count": 54,
   "outputs": [
    {
     "data": {
      "text/plain": "       Unnamed: 0      symbol emoji    kline             alert_price  \\\n0               0     ANTUSDT   💥💥💥  1 kline      alert price: 5.201   \n1               1     ANTUSDT   💥💥💥  1 kline      alert price: 5.201   \n2               2  PENDLEUSDT   💥💥💥  1 kline     alert price: 1.0423   \n3               3  PENDLEUSDT   💥💥💥  1 kline     alert price: 1.0423   \n4               4     YFIUSDT   💥💥💥  1 kline     alert price: 6868.0   \n...           ...         ...   ...      ...                     ...   \n13989       14352     ANTUSDT   🌊🌊🌊  2 kline      alert price: 4.133   \n13990       14353     BCHUSDT   🌊🌊🌊  2 kline     alert price: 208.66   \n13991       14354     AXSUSDT   💥💥💥  1 kline      alert price: 4.654   \n13992       14355   SPELLUSDT   💥💥💥  1 kline  alert price: 0.0004563   \n13993       14356     SOLUSDT   💥💥💥  1 kline     alert price: 19.006   \n\n                       Time_(MSK)  \n0      2023-11-09 18:51:52.578000  \n1      2023-11-09 18:51:52.578000  \n2      2023-11-09 18:50:35.789000  \n3      2023-11-09 18:50:35.789000  \n4      2023-11-09 18:48:24.505000  \n...                           ...  \n13989  2023-09-14 19:32:27.747000  \n13990  2023-09-14 19:31:45.800000  \n13991  2023-09-14 19:31:29.016000  \n13992  2023-09-14 19:21:40.284000  \n13993  2023-09-14 19:19:52.459000  \n\n[13994 rows x 6 columns]",
      "text/html": "<div>\n<style scoped>\n    .dataframe tbody tr th:only-of-type {\n        vertical-align: middle;\n    }\n\n    .dataframe tbody tr th {\n        vertical-align: top;\n    }\n\n    .dataframe thead th {\n        text-align: right;\n    }\n</style>\n<table border=\"1\" class=\"dataframe\">\n  <thead>\n    <tr style=\"text-align: right;\">\n      <th></th>\n      <th>Unnamed: 0</th>\n      <th>symbol</th>\n      <th>emoji</th>\n      <th>kline</th>\n      <th>alert_price</th>\n      <th>Time_(MSK)</th>\n    </tr>\n  </thead>\n  <tbody>\n    <tr>\n      <th>0</th>\n      <td>0</td>\n      <td>ANTUSDT</td>\n      <td>💥💥💥</td>\n      <td>1 kline</td>\n      <td>alert price: 5.201</td>\n      <td>2023-11-09 18:51:52.578000</td>\n    </tr>\n    <tr>\n      <th>1</th>\n      <td>1</td>\n      <td>ANTUSDT</td>\n      <td>💥💥💥</td>\n      <td>1 kline</td>\n      <td>alert price: 5.201</td>\n      <td>2023-11-09 18:51:52.578000</td>\n    </tr>\n    <tr>\n      <th>2</th>\n      <td>2</td>\n      <td>PENDLEUSDT</td>\n      <td>💥💥💥</td>\n      <td>1 kline</td>\n      <td>alert price: 1.0423</td>\n      <td>2023-11-09 18:50:35.789000</td>\n    </tr>\n    <tr>\n      <th>3</th>\n      <td>3</td>\n      <td>PENDLEUSDT</td>\n      <td>💥💥💥</td>\n      <td>1 kline</td>\n      <td>alert price: 1.0423</td>\n      <td>2023-11-09 18:50:35.789000</td>\n    </tr>\n    <tr>\n      <th>4</th>\n      <td>4</td>\n      <td>YFIUSDT</td>\n      <td>💥💥💥</td>\n      <td>1 kline</td>\n      <td>alert price: 6868.0</td>\n      <td>2023-11-09 18:48:24.505000</td>\n    </tr>\n    <tr>\n      <th>...</th>\n      <td>...</td>\n      <td>...</td>\n      <td>...</td>\n      <td>...</td>\n      <td>...</td>\n      <td>...</td>\n    </tr>\n    <tr>\n      <th>13989</th>\n      <td>14352</td>\n      <td>ANTUSDT</td>\n      <td>🌊🌊🌊</td>\n      <td>2 kline</td>\n      <td>alert price: 4.133</td>\n      <td>2023-09-14 19:32:27.747000</td>\n    </tr>\n    <tr>\n      <th>13990</th>\n      <td>14353</td>\n      <td>BCHUSDT</td>\n      <td>🌊🌊🌊</td>\n      <td>2 kline</td>\n      <td>alert price: 208.66</td>\n      <td>2023-09-14 19:31:45.800000</td>\n    </tr>\n    <tr>\n      <th>13991</th>\n      <td>14354</td>\n      <td>AXSUSDT</td>\n      <td>💥💥💥</td>\n      <td>1 kline</td>\n      <td>alert price: 4.654</td>\n      <td>2023-09-14 19:31:29.016000</td>\n    </tr>\n    <tr>\n      <th>13992</th>\n      <td>14355</td>\n      <td>SPELLUSDT</td>\n      <td>💥💥💥</td>\n      <td>1 kline</td>\n      <td>alert price: 0.0004563</td>\n      <td>2023-09-14 19:21:40.284000</td>\n    </tr>\n    <tr>\n      <th>13993</th>\n      <td>14356</td>\n      <td>SOLUSDT</td>\n      <td>💥💥💥</td>\n      <td>1 kline</td>\n      <td>alert price: 19.006</td>\n      <td>2023-09-14 19:19:52.459000</td>\n    </tr>\n  </tbody>\n</table>\n<p>13994 rows × 6 columns</p>\n</div>"
     },
     "execution_count": 54,
     "metadata": {},
     "output_type": "execute_result"
    }
   ],
   "source": [
    "alert_df"
   ],
   "metadata": {
    "collapsed": false,
    "ExecuteTime": {
     "end_time": "2023-12-12T17:44:41.363952500Z",
     "start_time": "2023-12-12T17:44:41.245680100Z"
    }
   },
   "id": "1cd9775c3fb95e2b"
  },
  {
   "cell_type": "markdown",
   "source": [
    "### Получение данных с Binance"
   ],
   "metadata": {
    "collapsed": false
   },
   "id": "8ad24dfe656740e7"
  },
  {
   "cell_type": "code",
   "execution_count": 55,
   "outputs": [],
   "source": [
    "def get_historical_klines(symbol, interval, start_time, end_time):\n",
    "    \"\"\"\n",
    "    Функция для получения исторических данных свечей (клайнов) с Binance по заданному символу (паре торгов),\n",
    "    интервалу времени, начальному и конечному времени.\n",
    "    Возвращает данные в виде датафрейма pandas.\n",
    "    \"\"\"\n",
    "    url = f\"https://api.binance.com/api/v3/klines?symbol={symbol}&interval={interval}&startTime={start_time}&endTime={end_time}\"\n",
    "    response = requests.get(url)\n",
    "    data = json.loads(response.text)\n",
    "    df = create_dataframe(data)\n",
    "    return df"
   ],
   "metadata": {
    "collapsed": false,
    "ExecuteTime": {
     "end_time": "2023-12-12T17:44:41.465779900Z",
     "start_time": "2023-12-12T17:44:41.327952600Z"
    }
   },
   "id": "3f4509e29921e087"
  },
  {
   "cell_type": "markdown",
   "source": [
    "### Подготавливаем шаблон будущего датафрейма"
   ],
   "metadata": {
    "collapsed": false
   },
   "id": "4029583c7c5e1afd"
  },
  {
   "cell_type": "code",
   "execution_count": 56,
   "outputs": [],
   "source": [
    "def create_dataframe(data):\n",
    "    \"\"\"\n",
    "    Функция для создания датафрейма pandas на основе полученных данных с Binance.\n",
    "    Преобразует числовые столбцы в числовой формат и приводит столбцы с временем к формату даты и времени.\n",
    "    Возвращает подготовленный датафрейм.\n",
    "    \"\"\"\n",
    "    df = pd.DataFrame(data, columns=['open_time', 'open', 'high', 'low', 'close', 'volume', 'close_time',\n",
    "                                     'quote_asset_volume', 'number_of_trades', 'taker_buy_base_asset_volume',\n",
    "                                     'taker_buy_quote_asset_volume', 'ignore'])\n",
    "    df['open_time'] = pd.to_datetime(df['open_time'], unit='ms')\n",
    "    df['close_time'] = pd.to_datetime(df['close_time'], unit='ms')\n",
    "    df = convert_numeric_columns(df)\n",
    "    return df\n"
   ],
   "metadata": {
    "collapsed": false,
    "ExecuteTime": {
     "end_time": "2023-12-12T17:44:41.710777200Z",
     "start_time": "2023-12-12T17:44:41.415516Z"
    }
   },
   "id": "b1787819dce31fc3"
  },
  {
   "cell_type": "code",
   "execution_count": 57,
   "outputs": [],
   "source": [
    "def convert_numeric_columns(df):\n",
    "    \"\"\"\n",
    "    Функция для преобразования числовых столбцов датафрейма в числовой формат.\n",
    "    Возвращает датафрейм с преобразованными столбцами.\n",
    "    \"\"\"\n",
    "    numeric_columns = ['open', 'high', 'low', 'close', 'volume', 'quote_asset_volume', 'taker_buy_base_asset_volume',\n",
    "                       'taker_buy_quote_asset_volume']\n",
    "    df[numeric_columns] = df[numeric_columns].apply(pd.to_numeric)\n",
    "    return df\n"
   ],
   "metadata": {
    "collapsed": false,
    "ExecuteTime": {
     "end_time": "2023-12-12T17:44:41.711775Z",
     "start_time": "2023-12-12T17:44:41.430169900Z"
    }
   },
   "id": "43e51207a5f4976"
  },
  {
   "cell_type": "markdown",
   "source": [
    "### Вычисление нужного временного диапазона (диапазона свечей)"
   ],
   "metadata": {
    "collapsed": false
   },
   "id": "6e3c97be5d26c3f"
  },
  {
   "cell_type": "code",
   "execution_count": 58,
   "outputs": [],
   "source": [
    "def calculate_time_range(alert_time):\n",
    "    \"\"\"\n",
    "    Функция для вычисления начального и конечного времени для получения исторических данных свечей.\n",
    "    Начальное время задается как 160 минут (2 часа 40 минут) до времени алерта, а конечное время - 120 минут (2 часа) после времени алерта.\n",
    "    Возвращает начальное и конечное время в миллисекундах.\n",
    "    \"\"\"\n",
    "    start_time = int((alert_time - pd.Timedelta(minutes=160)).timestamp() * 1000)\n",
    "    end_time = int((alert_time + pd.Timedelta(minutes=120)).timestamp() * 1000)\n",
    "    return start_time, end_time\n"
   ],
   "metadata": {
    "collapsed": false,
    "ExecuteTime": {
     "end_time": "2023-12-12T17:44:41.962549200Z",
     "start_time": "2023-12-12T17:44:41.542350700Z"
    }
   },
   "id": "2d34cfe1f8d3986"
  },
  {
   "cell_type": "markdown",
   "source": [
    "### Вычисление длины споротивления"
   ],
   "metadata": {
    "collapsed": false
   },
   "id": "8cb7eb8f8e18a6de"
  },
  {
   "cell_type": "code",
   "execution_count": 59,
   "outputs": [],
   "source": [
    "def calculate_resistance_length(data, alert_price):\n",
    "    \"\"\"\n",
    "    Функция для вычисления длины сопротивления на основе данных свечей и цены алерта.\n",
    "    Проходит по каждой свече в данных и увеличивает счетчик resistance_length,\n",
    "    пока цена не опускается ниже или равна цене алерта.\n",
    "    Возвращает длину сопротивления.\n",
    "    \"\"\"\n",
    "    resistance_length = 0\n",
    "    for _, row in data.iterrows():\n",
    "        if row['high'] >= alert_price:\n",
    "            resistance_length += 1\n",
    "        else:\n",
    "            break\n",
    "    return resistance_length\n"
   ],
   "metadata": {
    "collapsed": false,
    "ExecuteTime": {
     "end_time": "2023-12-12T17:44:42.298161300Z",
     "start_time": "2023-12-12T17:44:41.587519600Z"
    }
   },
   "id": "75ac802130102d8"
  },
  {
   "cell_type": "markdown",
   "source": [
    "### Cобираем нужные метрики (макс цена, длина сопротивления, >3%)"
   ],
   "metadata": {
    "collapsed": false
   },
   "id": "3aadbb696e9580c1"
  },
  {
   "cell_type": "code",
   "execution_count": 60,
   "outputs": [],
   "source": [
    "def calculate_metrics(data, alert_price):\n",
    "    \"\"\"\n",
    "    Функция для вычисления необходимых метрик на основе данных свечей и цены алерта.\n",
    "    Вычисляет максимальную цену, процент изменения цены относительно цены алерта,\n",
    "    длину сопротивления и определяет, является ли сигнал эффективным (если процент изменения >= 3%).\n",
    "    Возвращает максимальную цену, процент изменения, длину сопротивления и флаг эффективности.\n",
    "    \"\"\"\n",
    "    max_price = data['high'].max()\n",
    "    price_change_percentage = ((max_price - alert_price) / alert_price) * 100\n",
    "    resistance_length = calculate_resistance_length(data, alert_price)\n",
    "    is_effective = price_change_percentage >= 3\n",
    "    return max_price, price_change_percentage, resistance_length, is_effective\n"
   ],
   "metadata": {
    "collapsed": false,
    "ExecuteTime": {
     "end_time": "2023-12-12T17:44:42.621942100Z",
     "start_time": "2023-12-12T17:44:41.668225600Z"
    }
   },
   "id": "68f7a536819887af"
  },
  {
   "cell_type": "markdown",
   "source": [
    "### Cоздаём функцию, которая будет давать нам нужный диапазон свечей"
   ],
   "metadata": {
    "collapsed": false
   },
   "id": "b765a0d5fd5888b6"
  },
  {
   "cell_type": "code",
   "execution_count": 61,
   "outputs": [],
   "source": [
    "def process_alerts(alert_df):\n",
    "    \"\"\"\n",
    "    Функция для обработки сигналов алертов.\n",
    "    Проходит по каждому сигналу в датафрейме алертов и выполняет следующие действия:\n",
    "    - Извлекает символ, время алерта и цену алерта\n",
    "    - Вычисляет нужный временной диапазон (диапазон свечей) на основе времени алерта\n",
    "    - Получает исторические данные свечей с Binance\n",
    "    - Вычисляет необходимые метрики (максимальная цена, длина сопротивления, >3%)\n",
    "    - Добавляет результаты в список processed_data\n",
    "    Возвращает датафрейм с обработанными данными.\n",
    "    \"\"\"\n",
    "    processed_data = []\n",
    "    for index, row in alert_df.iterrows():\n",
    "        symbol = row['symbol']\n",
    "        alert_time = pd.to_datetime(row['Time_(MSK)'])\n",
    "        alert_price = float(row['alert_price'].split(': ')[1])\n",
    "        start_time, end_time = calculate_time_range(alert_time)\n",
    "        data = get_historical_klines(symbol, '1m', start_time, end_time)\n",
    "        max_price, price_change_percentage, resistance_length, is_effective = calculate_metrics(data, alert_price)\n",
    "        processed_data.append({\n",
    "            'symbol': symbol,\n",
    "            'alert_time': alert_time,\n",
    "            'alert_price': alert_price,\n",
    "            'max_price': max_price,\n",
    "            'price_change_percentage': price_change_percentage,\n",
    "            'resistance_length': resistance_length,\n",
    "            'is_effective': is_effective\n",
    "        })\n",
    "    return pd.DataFrame(processed_data)"
   ],
   "metadata": {
    "collapsed": false,
    "ExecuteTime": {
     "end_time": "2023-12-12T17:44:42.655934700Z",
     "start_time": "2023-12-12T17:44:41.714790800Z"
    }
   },
   "id": "79d4897ff4510411"
  },
  {
   "cell_type": "code",
   "execution_count": null,
   "outputs": [],
   "source": [
    "processed_data = process_alerts(alert_df)\n"
   ],
   "metadata": {
    "collapsed": false,
    "is_executing": true,
    "ExecuteTime": {
     "start_time": "2023-12-12T17:45:20.387877700Z"
    }
   },
   "id": "6a6f63d675ec0a5c"
  },
  {
   "cell_type": "code",
   "execution_count": null,
   "outputs": [],
   "source": [
    "processed_data.to_csv(\"Lebiadzevich_processed_data.csv\")"
   ],
   "metadata": {
    "collapsed": false,
    "is_executing": true
   },
   "id": "a6be3dc04bdd9121"
  },
  {
   "cell_type": "code",
   "execution_count": null,
   "outputs": [],
   "source": [],
   "metadata": {
    "collapsed": false,
    "ExecuteTime": {
     "start_time": "2023-12-12T17:44:52.184794100Z"
    }
   },
   "id": "32a63d3c3aed4ccc"
  },
  {
   "cell_type": "code",
   "execution_count": null,
   "outputs": [],
   "source": [],
   "metadata": {
    "collapsed": false,
    "ExecuteTime": {
     "start_time": "2023-12-12T17:44:52.189805Z"
    }
   },
   "id": "28b34606d96d5bb3"
  },
  {
   "cell_type": "code",
   "execution_count": null,
   "outputs": [],
   "source": [],
   "metadata": {
    "collapsed": false,
    "ExecuteTime": {
     "start_time": "2023-12-12T17:44:52.198369400Z"
    }
   },
   "id": "d8830614d91c0c67"
  },
  {
   "cell_type": "code",
   "execution_count": null,
   "outputs": [],
   "source": [],
   "metadata": {
    "collapsed": false,
    "ExecuteTime": {
     "start_time": "2023-12-12T17:44:52.203367100Z"
    }
   },
   "id": "26787dee327f9d59"
  },
  {
   "cell_type": "code",
   "execution_count": null,
   "outputs": [],
   "source": [],
   "metadata": {
    "collapsed": false,
    "ExecuteTime": {
     "end_time": "2023-12-12T17:44:52.211373Z",
     "start_time": "2023-12-12T17:44:52.208368700Z"
    }
   },
   "id": "a24a8d193e38b9ad"
  },
  {
   "cell_type": "code",
   "execution_count": null,
   "outputs": [],
   "source": [],
   "metadata": {
    "collapsed": false,
    "ExecuteTime": {
     "start_time": "2023-12-12T17:44:52.216366400Z"
    }
   },
   "id": "91967198518cacb2"
  },
  {
   "cell_type": "code",
   "execution_count": null,
   "outputs": [],
   "source": [],
   "metadata": {
    "collapsed": false,
    "ExecuteTime": {
     "start_time": "2023-12-12T17:44:52.222378400Z"
    }
   },
   "id": "418f18278c66837f"
  },
  {
   "cell_type": "code",
   "execution_count": null,
   "outputs": [],
   "source": [],
   "metadata": {
    "collapsed": false,
    "ExecuteTime": {
     "start_time": "2023-12-12T17:44:52.229127500Z"
    }
   },
   "id": "a2a0c5634575a345"
  },
  {
   "cell_type": "code",
   "execution_count": null,
   "outputs": [],
   "source": [],
   "metadata": {
    "collapsed": false,
    "ExecuteTime": {
     "start_time": "2023-12-12T17:44:52.234145400Z"
    }
   },
   "id": "712b5a0eafbc8fc"
  },
  {
   "cell_type": "code",
   "execution_count": null,
   "outputs": [],
   "source": [],
   "metadata": {
    "collapsed": false,
    "ExecuteTime": {
     "start_time": "2023-12-12T17:44:52.238169500Z"
    }
   },
   "id": "d9f3e66b29e14453"
  },
  {
   "cell_type": "code",
   "execution_count": null,
   "outputs": [],
   "source": [],
   "metadata": {
    "collapsed": false,
    "ExecuteTime": {
     "start_time": "2023-12-12T17:44:52.241146400Z"
    }
   },
   "id": "2aa06a92e6a31dd9"
  },
  {
   "cell_type": "code",
   "execution_count": null,
   "outputs": [],
   "source": [],
   "metadata": {
    "collapsed": false,
    "ExecuteTime": {
     "end_time": "2023-12-12T17:44:52.319703100Z",
     "start_time": "2023-12-12T17:44:52.245171100Z"
    }
   },
   "id": "40f23c21a494388f"
  },
  {
   "cell_type": "code",
   "execution_count": null,
   "outputs": [],
   "source": [],
   "metadata": {
    "collapsed": false,
    "ExecuteTime": {
     "start_time": "2023-12-12T17:44:52.248177100Z"
    }
   },
   "id": "99a488bfe1a87ade"
  },
  {
   "cell_type": "code",
   "execution_count": null,
   "outputs": [],
   "source": [],
   "metadata": {
    "collapsed": false,
    "ExecuteTime": {
     "start_time": "2023-12-12T17:44:52.251141800Z"
    }
   },
   "id": "32bd060db6187f7f"
  },
  {
   "cell_type": "code",
   "execution_count": null,
   "outputs": [],
   "source": [],
   "metadata": {
    "collapsed": false,
    "ExecuteTime": {
     "start_time": "2023-12-12T17:44:52.254171500Z"
    }
   },
   "id": "2da1c9b4e9007c85"
  },
  {
   "cell_type": "code",
   "execution_count": null,
   "outputs": [],
   "source": [],
   "metadata": {
    "collapsed": false,
    "ExecuteTime": {
     "start_time": "2023-12-12T17:44:52.257162800Z"
    }
   },
   "id": "51cc05449b2b8b0e"
  },
  {
   "cell_type": "code",
   "execution_count": null,
   "outputs": [],
   "source": [],
   "metadata": {
    "collapsed": false,
    "ExecuteTime": {
     "start_time": "2023-12-12T17:44:52.263143200Z"
    }
   },
   "id": "95533f5b397721fd"
  },
  {
   "cell_type": "code",
   "execution_count": null,
   "outputs": [],
   "source": [],
   "metadata": {
    "collapsed": false,
    "ExecuteTime": {
     "start_time": "2023-12-12T17:44:52.267151700Z"
    }
   },
   "id": "75da21af4efab217"
  },
  {
   "cell_type": "code",
   "execution_count": null,
   "outputs": [],
   "source": [],
   "metadata": {
    "collapsed": false
   },
   "id": "a848182fb8b647be"
  }
 ],
 "metadata": {
  "kernelspec": {
   "display_name": "Python 3",
   "language": "python",
   "name": "python3"
  },
  "language_info": {
   "codemirror_mode": {
    "name": "ipython",
    "version": 2
   },
   "file_extension": ".py",
   "mimetype": "text/x-python",
   "name": "python",
   "nbconvert_exporter": "python",
   "pygments_lexer": "ipython2",
   "version": "2.7.6"
  }
 },
 "nbformat": 4,
 "nbformat_minor": 5
}
